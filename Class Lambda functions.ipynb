{
 "cells": [
  {
   "cell_type": "code",
   "execution_count": 10,
   "metadata": {},
   "outputs": [
    {
     "data": {
      "text/plain": [
       "9"
      ]
     },
     "execution_count": 10,
     "metadata": {},
     "output_type": "execute_result"
    }
   ],
   "source": [
    "#las lambdas tienen todo en una misma linea\n",
    "#las lambdas siempre regresan un valor\n",
    "#si no vemos que regresa algo, significa que regresa un none\n",
    "\n",
    "suma = lambda x: x+5\n",
    "suma(4)"
   ]
  },
  {
   "cell_type": "code",
   "execution_count": 13,
   "metadata": {},
   "outputs": [
    {
     "name": "stdout",
     "output_type": "stream",
     "text": [
      "30\n",
      "holaholaholaholaholahola\n",
      "18\n"
     ]
    }
   ],
   "source": [
    "producto = lambda x,y: x*y\n",
    "producto_1 = producto(5,6)\n",
    "print(producto_1)\n",
    "\n",
    "producto_2 = producto('hola',6)\n",
    "print(producto_2)\n",
    "\n",
    "producto_3 = producto(suma(4),2)\n",
    "print(producto_3)"
   ]
  },
  {
   "cell_type": "code",
   "execution_count": 25,
   "metadata": {},
   "outputs": [
    {
     "name": "stdout",
     "output_type": "stream",
     "text": [
      "140300169398272\n",
      "140300169398272\n"
     ]
    }
   ],
   "source": [
    "#para que la lista no se modifique, debo iniciarla dentro de mi función\n",
    "def funcion(x=4, y=None):\n",
    "    if y == None:\n",
    "        y = []\n",
    "    print(id(y))\n",
    "    y.append(4)\n",
    "    print(id(y))\n",
    "    return y\n",
    "\n",
    "#aqui mi lista siempre estara vacía\n",
    "lista = funcion()"
   ]
  },
  {
   "cell_type": "code",
   "execution_count": 34,
   "metadata": {},
   "outputs": [
    {
     "name": "stdout",
     "output_type": "stream",
     "text": [
      "140300169626176\n",
      "140300169626176\n",
      "[4]\n"
     ]
    }
   ],
   "source": [
    "#para que la lista se modifique, no debo iniciarla\n",
    "def funcion_1(x=4, y_1=[]):\n",
    "    print(id(y_1))\n",
    "    y_1.append(4)\n",
    "    print(id(y_1))\n",
    "    return y_1\n",
    "\n",
    "#aqui mi lista siempre estara vacía\n",
    "lista_1 = funcion_1()\n",
    "print(lista_1)"
   ]
  },
  {
   "cell_type": "code",
   "execution_count": 39,
   "metadata": {},
   "outputs": [
    {
     "data": {
      "text/plain": [
       "'0'"
      ]
     },
     "execution_count": 39,
     "metadata": {},
     "output_type": "execute_result"
    }
   ],
   "source": [
    "#siempre que ponga in if, debo poner un else\n",
    "fake_bin = lambda x: '0' if x < '5' else '1'\n",
    "\n",
    "fake_bin('4')"
   ]
  },
  {
   "cell_type": "code",
   "execution_count": 40,
   "metadata": {},
   "outputs": [
    {
     "data": {
      "text/plain": [
       "['0',\n",
       " '0',\n",
       " '1',\n",
       " '0',\n",
       " '0',\n",
       " '1',\n",
       " '1',\n",
       " '0',\n",
       " '0',\n",
       " '1',\n",
       " '1',\n",
       " '0',\n",
       " '0',\n",
       " '1',\n",
       " '0',\n",
       " '1',\n",
       " '1']"
      ]
     },
     "execution_count": 40,
     "metadata": {},
     "output_type": "execute_result"
    }
   ],
   "source": [
    "#con map a cada elemento le aplico la función\n",
    "#en este caso, estoy comparando el cero con cada uno de los numeros de 34534563256345455\n",
    "\n",
    "list(map(lambda x:'0' if x < '5' else '1','34534563256345455'))"
   ]
  },
  {
   "cell_type": "code",
   "execution_count": 41,
   "metadata": {},
   "outputs": [
    {
     "data": {
      "text/plain": [
       "0"
      ]
     },
     "execution_count": 41,
     "metadata": {},
     "output_type": "execute_result"
    }
   ],
   "source": [
    "pares = lambda x,y: 2 if x % 2 == 0 else 1 if not y % 5 else 0 \n",
    "\n",
    "pares(1,3)"
   ]
  },
  {
   "cell_type": "code",
   "execution_count": 56,
   "metadata": {},
   "outputs": [
    {
     "name": "stdout",
     "output_type": "stream",
     "text": [
      "125\n",
      "4\n"
     ]
    }
   ],
   "source": [
    "#las funciones pueden regresar lambdas\n",
    "def potencia(pot):\n",
    "    return lambda x: x ** pot\n",
    "\n",
    "cubo = potencia(3) #3 es el pot\n",
    "print(cubo(5))#el 5 es la x\n",
    "\n",
    "cuadrado = potencia(2)\n",
    "print(cuadrado(2))"
   ]
  },
  {
   "cell_type": "code",
   "execution_count": 59,
   "metadata": {},
   "outputs": [
    {
     "name": "stdout",
     "output_type": "stream",
     "text": [
      "None\n"
     ]
    }
   ],
   "source": [
    "#funciones dentro de lambdas\n",
    "\n",
    "extender = lambda lista,valor: lista.append(valor)\n",
    "lista_1 = [1,2,3]\n",
    "regreso = extender(lista_1,4)\n",
    "print(regreso)"
   ]
  },
  {
   "cell_type": "code",
   "execution_count": 60,
   "metadata": {},
   "outputs": [
    {
     "data": {
      "text/plain": [
       "10"
      ]
     },
     "execution_count": 60,
     "metadata": {},
     "output_type": "execute_result"
    }
   ],
   "source": [
    "def suma(a,b):\n",
    "    return a + b\n",
    "\n",
    "suma_doble = lambda x,y: 2*suma(x,y)\n",
    "\n",
    "suma_doble(2,3)"
   ]
  },
  {
   "cell_type": "code",
   "execution_count": 70,
   "metadata": {},
   "outputs": [
    {
     "name": "stdout",
     "output_type": "stream",
     "text": [
      "3\n",
      "7\n"
     ]
    }
   ],
   "source": [
    "#creame una función lambda de 0 a 3\n",
    "lista_lambda = [lambda x,i=i: x+i for i in range(4)] #el i=i es un hack para que vaya guardando\n",
    "\n",
    "primera = lista_lambda[0](3)\n",
    "print(primera)\n",
    "\n",
    "segunda = lista_lambda[2](5)\n",
    "print(segunda)"
   ]
  },
  {
   "cell_type": "code",
   "execution_count": 71,
   "metadata": {},
   "outputs": [
    {
     "data": {
      "text/plain": [
       "'0011110010'"
      ]
     },
     "execution_count": 71,
     "metadata": {},
     "output_type": "execute_result"
    }
   ],
   "source": [
    "#Version anidada\n",
    "respuesta = lambda string: ''.join(map(lambda x: '0' if x < '5' else '1',string))\n",
    "respuesta('3456782364')"
   ]
  },
  {
   "cell_type": "code",
   "execution_count": 73,
   "metadata": {},
   "outputs": [
    {
     "data": {
      "text/plain": [
       "'0011111'"
      ]
     },
     "execution_count": 73,
     "metadata": {},
     "output_type": "execute_result"
    }
   ],
   "source": [
    "#esta función hace lo mismo que lo de arriba\n",
    "\n",
    "def respuesta(string):\n",
    "    lista = []\n",
    "    #a esta lista vacia le voy iterando una función\n",
    "    fake = lambda x: '0' if x < '5' else '1'\n",
    "    for numero in string:\n",
    "        lista.append(fake(numero))\n",
    "        \n",
    "    return ''.join(lista)\n",
    "\n",
    "respuesta('3456789')"
   ]
  },
  {
   "cell_type": "code",
   "execution_count": null,
   "metadata": {},
   "outputs": [],
   "source": []
  }
 ],
 "metadata": {
  "kernelspec": {
   "display_name": "Python 3",
   "language": "python",
   "name": "python3"
  },
  "language_info": {
   "codemirror_mode": {
    "name": "ipython",
    "version": 3
   },
   "file_extension": ".py",
   "mimetype": "text/x-python",
   "name": "python",
   "nbconvert_exporter": "python",
   "pygments_lexer": "ipython3",
   "version": "3.8.3"
  }
 },
 "nbformat": 4,
 "nbformat_minor": 4
}
